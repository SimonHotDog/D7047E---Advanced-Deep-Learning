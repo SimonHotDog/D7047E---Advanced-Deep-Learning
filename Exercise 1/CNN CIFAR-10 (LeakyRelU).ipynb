{
 "cells": [
  {
   "cell_type": "code",
   "execution_count": 1,
   "metadata": {},
   "outputs": [],
   "source": [
    "%matplotlib inline\n",
    "\n",
    "import matplotlib.pyplot as plt\n",
    "import numpy as np\n",
    "import tensorflow as tf\n",
    "\n",
    "from tensorflow import keras\n",
    "from tensorflow.keras import layers\n",
    "from tensorflow.keras.models import Sequential\n",
    "import tensorflow.keras.optimizers as optim\n",
    "from tensorflow.keras.losses import SparseCategoricalCrossentropy"
   ]
  },
  {
   "cell_type": "markdown",
   "metadata": {},
   "source": [
    "# Exercise 1\n",
    "## Tasks\n",
    "1. Download and prepare CIFAR-10 dataset \n",
    "1. Write a simple CNN network for classifying images\n",
    "    - use LeakyReLU as the activation function\n",
    "    - use SGD as the optimizer and 0.0001 as the learning rate, and keep all default parameters\n",
    "    - Report the accuracy on the test set\n",
    "1. Change the optimiser to Adam and run again the experiment. Report accuracy on test set.\n",
    "1. Swap the LeakyReLUs for Tanh. Then run again the experiment and report accuracy on test set. Make a separate file for this experiment.\n",
    "1. Visualize the results of these runs on a Tensorboard. Just put any screenshot of the web interface with the experiments to prove you got it working is enough. (for example show the training loss on tensorboard)"
   ]
  },
  {
   "cell_type": "markdown",
   "metadata": {},
   "source": [
    "## Task 1, download CIFAR-10 dataset"
   ]
  },
  {
   "cell_type": "code",
   "execution_count": 2,
   "metadata": {},
   "outputs": [],
   "source": [
    "cifar_10 = tf.keras.datasets.cifar10\n",
    "(train_images, train_labels), (test_images, test_labels) = cifar_10.load_data()"
   ]
  },
  {
   "cell_type": "code",
   "execution_count": 3,
   "metadata": {},
   "outputs": [
    {
     "data": {
      "image/png": "[encoded data removed]",
      "text/plain": [
       "<Figure size 432x288 with 1 Axes>"
      ]
     },
     "metadata": {
      "needs_background": "light"
     },
     "output_type": "display_data"
    }
   ],
   "source": [
    "plt.figure()\n",
    "plt.imshow(test_images[0])\n",
    "plt.grid(False)\n",
    "plt.show()"
   ]
  },
  {
   "cell_type": "code",
   "execution_count": 4,
   "metadata": {},
   "outputs": [
    {
     "data": {
      "text/plain": [
       "(1,)"
      ]
     },
     "execution_count": 4,
     "metadata": {},
     "output_type": "execute_result"
    }
   ],
   "source": [
    "train_images[0].shape\n",
    "train_labels[0].shape"
   ]
  },
  {
   "cell_type": "markdown",
   "metadata": {},
   "source": [
    "## Task 2"
   ]
  },
  {
   "cell_type": "code",
   "execution_count": 5,
   "metadata": {},
   "outputs": [
    {
     "name": "stdout",
     "output_type": "stream",
     "text": [
      "Model: \"sequential\"\n",
      "_________________________________________________________________\n",
      "Layer (type)                 Output Shape              Param #   \n",
      "=================================================================\n",
      "conv2d (Conv2D)              (None, 32, 32, 32)        896       \n",
      "_________________________________________________________________\n",
      "conv2d_1 (Conv2D)            (None, 32, 32, 64)        18496     \n",
      "_________________________________________________________________\n",
      "max_pooling2d (MaxPooling2D) (None, 16, 16, 64)        0         \n",
      "_________________________________________________________________\n",
      "conv2d_2 (Conv2D)            (None, 16, 16, 64)        36928     \n",
      "_________________________________________________________________\n",
      "max_pooling2d_1 (MaxPooling2 (None, 8, 8, 64)          0         \n",
      "_________________________________________________________________\n",
      "flatten (Flatten)            (None, 4096)              0         \n",
      "_________________________________________________________________\n",
      "dense (Dense)                (None, 64)                262208    \n",
      "_________________________________________________________________\n",
      "dense_1 (Dense)              (None, 10)                650       \n",
      "=================================================================\n",
      "Total params: 319,178\n",
      "Trainable params: 319,178\n",
      "Non-trainable params: 0\n",
      "_________________________________________________________________\n"
     ]
    }
   ],
   "source": [
    "alpha=0.3\n",
    "epochs=60\n",
    "activation_func = layers.LeakyReLU(alpha=alpha)\n",
    "\n",
    "model1 = Sequential([\n",
    "  layers.Conv2D(32, (3, 3), padding='same', activation=activation_func, input_shape=(32, 32, 3)),\n",
    "  layers.Conv2D(64, (3, 3), padding='same', activation=activation_func),\n",
    "  layers.MaxPooling2D(),\n",
    "  layers.Conv2D(64, (3, 3), padding='same', activation=activation_func),\n",
    "  layers.MaxPooling2D(),\n",
    "  layers.Flatten(),\n",
    "  layers.Dense(64, activation=activation_func),\n",
    "  layers.Dense(10, activation=\"softmax\")\n",
    "])\n",
    "\n",
    "model1.compile(optimizer=optim.SGD(learning_rate=0.0001), \n",
    "            loss=SparseCategoricalCrossentropy(),\n",
    "            metrics=[\"accuracy\"])\n",
    "\n",
    "model1.summary()"
   ]
  },
  {
   "cell_type": "code",
   "execution_count": 6,
   "metadata": {
    "scrolled": true
   },
   "outputs": [
    {
     "name": "stdout",
     "output_type": "stream",
     "text": [
      "Epoch 1/120\n",
      "1563/1563 [==============================] - 17s 11ms/step - loss: 2.3828 - accuracy: 0.2901 - val_loss: 1.8252 - val_accuracy: 0.3549\n",
      "Epoch 2/120\n",
      "1563/1563 [==============================] - 16s 11ms/step - loss: 1.7363 - accuracy: 0.3895 - val_loss: 1.6694 - val_accuracy: 0.4128\n",
      "Epoch 3/120\n",
      "1563/1563 [==============================] - 16s 10ms/step - loss: 1.6213 - accuracy: 0.4286 - val_loss: 1.5961 - val_accuracy: 0.4374\n",
      "Epoch 4/120\n",
      "1563/1563 [==============================] - 16s 10ms/step - loss: 1.5467 - accuracy: 0.4560 - val_loss: 1.5388 - val_accuracy: 0.4616\n",
      "Epoch 5/120\n",
      "1563/1563 [==============================] - 17s 11ms/step - loss: 1.4933 - accuracy: 0.4731 - val_loss: 1.4811 - val_accuracy: 0.4758\n",
      "Epoch 6/120\n",
      "1563/1563 [==============================] - 17s 11ms/step - loss: 1.4495 - accuracy: 0.4915 - val_loss: 1.4706 - val_accuracy: 0.4790\n",
      "Epoch 7/120\n",
      "1563/1563 [==============================] - 16s 10ms/step - loss: 1.4122 - accuracy: 0.5039 - val_loss: 1.4398 - val_accuracy: 0.4963\n",
      "Epoch 8/120\n",
      "1563/1563 [==============================] - 16s 10ms/step - loss: 1.3802 - accuracy: 0.5148 - val_loss: 1.4429 - val_accuracy: 0.4917\n",
      "Epoch 9/120\n",
      "1563/1563 [==============================] - 16s 10ms/step - loss: 1.3508 - accuracy: 0.5252 - val_loss: 1.3704 - val_accuracy: 0.5172\n",
      "Epoch 10/120\n",
      "1563/1563 [==============================] - 16s 10ms/step - loss: 1.3240 - accuracy: 0.5355 - val_loss: 1.3444 - val_accuracy: 0.5264\n",
      "Epoch 11/120\n",
      "1563/1563 [==============================] - 16s 10ms/step - loss: 1.3003 - accuracy: 0.5425 - val_loss: 1.3542 - val_accuracy: 0.5175\n",
      "Epoch 12/120\n",
      "1563/1563 [==============================] - 16s 10ms/step - loss: 1.2778 - accuracy: 0.5521 - val_loss: 1.3256 - val_accuracy: 0.5335\n",
      "Epoch 13/120\n",
      "1563/1563 [==============================] - 16s 11ms/step - loss: 1.2561 - accuracy: 0.5596 - val_loss: 1.2884 - val_accuracy: 0.5478\n",
      "Epoch 14/120\n",
      "1563/1563 [==============================] - 16s 10ms/step - loss: 1.2360 - accuracy: 0.5671 - val_loss: 1.2738 - val_accuracy: 0.5507\n",
      "Epoch 15/120\n",
      "1563/1563 [==============================] - 17s 11ms/step - loss: 1.2161 - accuracy: 0.5756 - val_loss: 1.4201 - val_accuracy: 0.5173\n",
      "Epoch 16/120\n",
      "1563/1563 [==============================] - 16s 10ms/step - loss: 1.1987 - accuracy: 0.5801 - val_loss: 1.2523 - val_accuracy: 0.5575\n",
      "Epoch 17/120\n",
      "1563/1563 [==============================] - 16s 10ms/step - loss: 1.1826 - accuracy: 0.5876 - val_loss: 1.2362 - val_accuracy: 0.5634\n",
      "Epoch 18/120\n",
      "1563/1563 [==============================] - 17s 11ms/step - loss: 1.1648 - accuracy: 0.5943 - val_loss: 1.2421 - val_accuracy: 0.5672\n",
      "Epoch 19/120\n",
      "1563/1563 [==============================] - 17s 11ms/step - loss: 1.1510 - accuracy: 0.5984 - val_loss: 1.2336 - val_accuracy: 0.5715\n",
      "Epoch 20/120\n",
      "1563/1563 [==============================] - 16s 10ms/step - loss: 1.1361 - accuracy: 0.6039 - val_loss: 1.2369 - val_accuracy: 0.5648\n",
      "Epoch 21/120\n",
      "1563/1563 [==============================] - 16s 11ms/step - loss: 1.1222 - accuracy: 0.6087 - val_loss: 1.1836 - val_accuracy: 0.5797\n",
      "Epoch 22/120\n",
      "1563/1563 [==============================] - 17s 11ms/step - loss: 1.1095 - accuracy: 0.6140 - val_loss: 1.1728 - val_accuracy: 0.5899\n",
      "Epoch 23/120\n",
      "1563/1563 [==============================] - 16s 10ms/step - loss: 1.0947 - accuracy: 0.6177 - val_loss: 1.1559 - val_accuracy: 0.5957\n",
      "Epoch 24/120\n",
      "1563/1563 [==============================] - 17s 11ms/step - loss: 1.0830 - accuracy: 0.6230 - val_loss: 1.1687 - val_accuracy: 0.5820\n",
      "Epoch 25/120\n",
      "1563/1563 [==============================] - 16s 10ms/step - loss: 1.0723 - accuracy: 0.6253 - val_loss: 1.1477 - val_accuracy: 0.5951\n",
      "Epoch 26/120\n",
      "1563/1563 [==============================] - 16s 10ms/step - loss: 1.0613 - accuracy: 0.6308 - val_loss: 1.1473 - val_accuracy: 0.5998\n",
      "Epoch 27/120\n",
      "1563/1563 [==============================] - 17s 11ms/step - loss: 1.0497 - accuracy: 0.6350 - val_loss: 1.1277 - val_accuracy: 0.6097\n",
      "Epoch 28/120\n",
      "1563/1563 [==============================] - 16s 10ms/step - loss: 1.0392 - accuracy: 0.6396 - val_loss: 1.1261 - val_accuracy: 0.6078\n",
      "Epoch 29/120\n",
      "1563/1563 [==============================] - 17s 11ms/step - loss: 1.0300 - accuracy: 0.6424 - val_loss: 1.1232 - val_accuracy: 0.6049\n",
      "Epoch 30/120\n",
      "1563/1563 [==============================] - 16s 11ms/step - loss: 1.0205 - accuracy: 0.6456 - val_loss: 1.1215 - val_accuracy: 0.6115\n",
      "Epoch 31/120\n",
      "1563/1563 [==============================] - 16s 11ms/step - loss: 1.0117 - accuracy: 0.6491 - val_loss: 1.1355 - val_accuracy: 0.6042\n",
      "Epoch 32/120\n",
      "1563/1563 [==============================] - 16s 10ms/step - loss: 1.0017 - accuracy: 0.6527 - val_loss: 1.0907 - val_accuracy: 0.6222\n",
      "Epoch 33/120\n",
      "1563/1563 [==============================] - 16s 10ms/step - loss: 0.9925 - accuracy: 0.6570 - val_loss: 1.0863 - val_accuracy: 0.6182\n",
      "Epoch 34/120\n",
      "1563/1563 [==============================] - 16s 10ms/step - loss: 0.9848 - accuracy: 0.6590 - val_loss: 1.0835 - val_accuracy: 0.6265\n",
      "Epoch 35/120\n",
      "1563/1563 [==============================] - 16s 10ms/step - loss: 0.9768 - accuracy: 0.6626 - val_loss: 1.0819 - val_accuracy: 0.6214\n",
      "Epoch 36/120\n",
      "1563/1563 [==============================] - 16s 10ms/step - loss: 0.9688 - accuracy: 0.6654 - val_loss: 1.0916 - val_accuracy: 0.6256\n",
      "Epoch 37/120\n",
      "1563/1563 [==============================] - 16s 10ms/step - loss: 0.9626 - accuracy: 0.6670 - val_loss: 1.0602 - val_accuracy: 0.6305\n",
      "Epoch 38/120\n",
      "1563/1563 [==============================] - 16s 10ms/step - loss: 0.9554 - accuracy: 0.6705 - val_loss: 1.0655 - val_accuracy: 0.6253\n",
      "Epoch 39/120\n",
      "1563/1563 [==============================] - 16s 10ms/step - loss: 0.9487 - accuracy: 0.6743 - val_loss: 1.0958 - val_accuracy: 0.6195\n",
      "Epoch 40/120\n",
      "1563/1563 [==============================] - 16s 10ms/step - loss: 0.9415 - accuracy: 0.6748 - val_loss: 1.0746 - val_accuracy: 0.6289\n",
      "Epoch 41/120\n",
      "1563/1563 [==============================] - 16s 10ms/step - loss: 0.9345 - accuracy: 0.6774 - val_loss: 1.0533 - val_accuracy: 0.6349\n",
      "Epoch 42/120\n",
      "1563/1563 [==============================] - 16s 11ms/step - loss: 0.9280 - accuracy: 0.6807 - val_loss: 1.0779 - val_accuracy: 0.6299\n",
      "Epoch 43/120\n",
      "1563/1563 [==============================] - 17s 11ms/step - loss: 0.9208 - accuracy: 0.6824 - val_loss: 1.1292 - val_accuracy: 0.6080\n",
      "Epoch 44/120\n",
      "1563/1563 [==============================] - 17s 11ms/step - loss: 0.9164 - accuracy: 0.6853 - val_loss: 1.0410 - val_accuracy: 0.6400\n",
      "Epoch 45/120\n",
      "1563/1563 [==============================] - 16s 10ms/step - loss: 0.9096 - accuracy: 0.6861 - val_loss: 1.0695 - val_accuracy: 0.6349\n",
      "Epoch 46/120\n",
      "1563/1563 [==============================] - 16s 10ms/step - loss: 0.9028 - accuracy: 0.6894 - val_loss: 1.0302 - val_accuracy: 0.6430\n",
      "Epoch 47/120\n",
      "1563/1563 [==============================] - 16s 10ms/step - loss: 0.8973 - accuracy: 0.6909 - val_loss: 1.0502 - val_accuracy: 0.6353 0.8983 - ac\n",
      "Epoch 48/120\n",
      "1563/1563 [==============================] - 16s 10ms/step - loss: 0.8918 - accuracy: 0.6922 - val_loss: 1.0393 - val_accuracy: 0.6453\n",
      "Epoch 49/120\n",
      "1563/1563 [==============================] - 17s 11ms/step - loss: 0.8865 - accuracy: 0.6955 - val_loss: 1.0479 - val_accuracy: 0.6466\n",
      "Epoch 50/120\n",
      "1563/1563 [==============================] - 17s 11ms/step - loss: 0.8806 - accuracy: 0.6981 - val_loss: 1.0242 - val_accuracy: 0.6456\n",
      "Epoch 51/120\n",
      "1563/1563 [==============================] - 17s 11ms/step - loss: 0.8759 - accuracy: 0.6988 - val_loss: 1.0522 - val_accuracy: 0.6476\n",
      "Epoch 52/120\n",
      "1563/1563 [==============================] - 17s 11ms/step - loss: 0.8706 - accuracy: 0.7015 - val_loss: 1.0173 - val_accuracy: 0.6495\n",
      "Epoch 53/120\n",
      "1563/1563 [==============================] - 16s 10ms/step - loss: 0.8651 - accuracy: 0.7029 - val_loss: 1.0169 - val_accuracy: 0.6530\n",
      "Epoch 54/120\n",
      "1563/1563 [==============================] - 16s 10ms/step - loss: 0.8594 - accuracy: 0.7050 - val_loss: 1.0103 - val_accuracy: 0.6549\n",
      "Epoch 55/120\n",
      "1563/1563 [==============================] - 16s 10ms/step - loss: 0.8545 - accuracy: 0.7067 - val_loss: 1.0264 - val_accuracy: 0.6444\n",
      "Epoch 56/120\n"
     ]
    },
    {
     "name": "stdout",
     "output_type": "stream",
     "text": [
      "1563/1563 [==============================] - 17s 11ms/step - loss: 0.8502 - accuracy: 0.7071 - val_loss: 1.0343 - val_accuracy: 0.6471\n",
      "Epoch 57/120\n",
      "1563/1563 [==============================] - 16s 10ms/step - loss: 0.8452 - accuracy: 0.7107 - val_loss: 1.0036 - val_accuracy: 0.6564\n",
      "Epoch 58/120\n",
      "1563/1563 [==============================] - 16s 10ms/step - loss: 0.8396 - accuracy: 0.7130 - val_loss: 1.0072 - val_accuracy: 0.6537\n",
      "Epoch 59/120\n",
      "1563/1563 [==============================] - 16s 11ms/step - loss: 0.8356 - accuracy: 0.7139 - val_loss: 1.0190 - val_accuracy: 0.6509\n",
      "Epoch 60/120\n",
      "1563/1563 [==============================] - 16s 10ms/step - loss: 0.8319 - accuracy: 0.7138 - val_loss: 1.0010 - val_accuracy: 0.6606\n",
      "Epoch 61/120\n",
      "1563/1563 [==============================] - 16s 10ms/step - loss: 0.8272 - accuracy: 0.7167 - val_loss: 1.0531 - val_accuracy: 0.6372\n",
      "Epoch 62/120\n",
      "1563/1563 [==============================] - 16s 10ms/step - loss: 0.8219 - accuracy: 0.7191 - val_loss: 1.0282 - val_accuracy: 0.6503\n",
      "Epoch 63/120\n",
      "1563/1563 [==============================] - 16s 10ms/step - loss: 0.8172 - accuracy: 0.7198 - val_loss: 1.0072 - val_accuracy: 0.6564\n",
      "Epoch 64/120\n",
      "1563/1563 [==============================] - 17s 11ms/step - loss: 0.8112 - accuracy: 0.7213 - val_loss: 0.9983 - val_accuracy: 0.6637\n",
      "Epoch 65/120\n",
      "1563/1563 [==============================] - 17s 11ms/step - loss: 0.8077 - accuracy: 0.7223 - val_loss: 0.9903 - val_accuracy: 0.6645\n",
      "Epoch 66/120\n",
      "1563/1563 [==============================] - 17s 11ms/step - loss: 0.8021 - accuracy: 0.7251 - val_loss: 0.9988 - val_accuracy: 0.6626\n",
      "Epoch 67/120\n",
      "1563/1563 [==============================] - 17s 11ms/step - loss: 0.7986 - accuracy: 0.7252 - val_loss: 0.9992 - val_accuracy: 0.6628\n",
      "Epoch 68/120\n",
      "1563/1563 [==============================] - 16s 10ms/step - loss: 0.7948 - accuracy: 0.7271 - val_loss: 0.9843 - val_accuracy: 0.6664\n",
      "Epoch 69/120\n",
      "1563/1563 [==============================] - 16s 10ms/step - loss: 0.7911 - accuracy: 0.7283 - val_loss: 0.9981 - val_accuracy: 0.6615\n",
      "Epoch 70/120\n",
      "1563/1563 [==============================] - 16s 10ms/step - loss: 0.7865 - accuracy: 0.7297 - val_loss: 0.9784 - val_accuracy: 0.6700\n",
      "Epoch 71/120\n",
      "1563/1563 [==============================] - 16s 10ms/step - loss: 0.7819 - accuracy: 0.7314 - val_loss: 1.0413 - val_accuracy: 0.6449\n",
      "Epoch 72/120\n",
      "1563/1563 [==============================] - 16s 11ms/step - loss: 0.7781 - accuracy: 0.7330 - val_loss: 0.9816 - val_accuracy: 0.6692\n",
      "Epoch 73/120\n",
      "1563/1563 [==============================] - 16s 10ms/step - loss: 0.7741 - accuracy: 0.7345 - val_loss: 0.9874 - val_accuracy: 0.6666\n",
      "Epoch 74/120\n",
      "1563/1563 [==============================] - 16s 10ms/step - loss: 0.7693 - accuracy: 0.7354 - val_loss: 1.0045 - val_accuracy: 0.6668\n",
      "Epoch 75/120\n",
      "1563/1563 [==============================] - 16s 10ms/step - loss: 0.7653 - accuracy: 0.7385 - val_loss: 0.9841 - val_accuracy: 0.6652\n",
      "Epoch 76/120\n",
      "1563/1563 [==============================] - 16s 10ms/step - loss: 0.7608 - accuracy: 0.7394 - val_loss: 0.9807 - val_accuracy: 0.6700\n",
      "Epoch 77/120\n",
      "1563/1563 [==============================] - 16s 10ms/step - loss: 0.7571 - accuracy: 0.7405 - val_loss: 0.9762 - val_accuracy: 0.6718\n",
      "Epoch 78/120\n",
      "1563/1563 [==============================] - 16s 10ms/step - loss: 0.7527 - accuracy: 0.7420 - val_loss: 0.9751 - val_accuracy: 0.6754\n",
      "Epoch 79/120\n",
      "1563/1563 [==============================] - 17s 11ms/step - loss: 0.7495 - accuracy: 0.7434 - val_loss: 0.9776 - val_accuracy: 0.6743\n",
      "Epoch 80/120\n",
      "1563/1563 [==============================] - 16s 11ms/step - loss: 0.7442 - accuracy: 0.7442 - val_loss: 1.0112 - val_accuracy: 0.6606\n",
      "Epoch 81/120\n",
      "1563/1563 [==============================] - 16s 10ms/step - loss: 0.7423 - accuracy: 0.7467 - val_loss: 1.0079 - val_accuracy: 0.6638\n",
      "Epoch 82/120\n",
      "1563/1563 [==============================] - 16s 10ms/step - loss: 0.7375 - accuracy: 0.7472 - val_loss: 0.9855 - val_accuracy: 0.6736\n",
      "Epoch 83/120\n",
      "1563/1563 [==============================] - 16s 10ms/step - loss: 0.7339 - accuracy: 0.7486 - val_loss: 1.0338 - val_accuracy: 0.6532\n",
      "Epoch 84/120\n",
      "1563/1563 [==============================] - 16s 10ms/step - loss: 0.7298 - accuracy: 0.7501 - val_loss: 0.9731 - val_accuracy: 0.6721\n",
      "Epoch 85/120\n",
      "1563/1563 [==============================] - 16s 10ms/step - loss: 0.7254 - accuracy: 0.7526 - val_loss: 0.9817 - val_accuracy: 0.6740\n",
      "Epoch 86/120\n",
      "1563/1563 [==============================] - 17s 11ms/step - loss: 0.7216 - accuracy: 0.7540 - val_loss: 0.9877 - val_accuracy: 0.6707\n",
      "Epoch 87/120\n",
      "1563/1563 [==============================] - 16s 10ms/step - loss: 0.7185 - accuracy: 0.7532 - val_loss: 0.9727 - val_accuracy: 0.6768\n",
      "Epoch 88/120\n",
      "1563/1563 [==============================] - 16s 10ms/step - loss: 0.7146 - accuracy: 0.7549 - val_loss: 0.9739 - val_accuracy: 0.6725\n",
      "Epoch 89/120\n",
      "1563/1563 [==============================] - 16s 10ms/step - loss: 0.7108 - accuracy: 0.7575 - val_loss: 0.9870 - val_accuracy: 0.6729\n",
      "Epoch 90/120\n",
      "1563/1563 [==============================] - 16s 10ms/step - loss: 0.7066 - accuracy: 0.7576 - val_loss: 0.9851 - val_accuracy: 0.6739\n",
      "Epoch 91/120\n",
      "1563/1563 [==============================] - 16s 10ms/step - loss: 0.7026 - accuracy: 0.7593 - val_loss: 0.9864 - val_accuracy: 0.6683\n",
      "Epoch 92/120\n",
      "1563/1563 [==============================] - 16s 11ms/step - loss: 0.6990 - accuracy: 0.7614 - val_loss: 0.9919 - val_accuracy: 0.6711\n",
      "Epoch 93/120\n",
      "1563/1563 [==============================] - 16s 10ms/step - loss: 0.6956 - accuracy: 0.7619 - val_loss: 0.9754 - val_accuracy: 0.6767\n",
      "Epoch 94/120\n",
      "1563/1563 [==============================] - 16s 10ms/step - loss: 0.6912 - accuracy: 0.7652 - val_loss: 0.9858 - val_accuracy: 0.6715\n",
      "Epoch 95/120\n",
      "1563/1563 [==============================] - 16s 11ms/step - loss: 0.6879 - accuracy: 0.7649 - val_loss: 0.9998 - val_accuracy: 0.6739\n",
      "Epoch 96/120\n",
      "1563/1563 [==============================] - 16s 11ms/step - loss: 0.6850 - accuracy: 0.7666 - val_loss: 0.9849 - val_accuracy: 0.6741\n",
      "Epoch 97/120\n",
      "1563/1563 [==============================] - 16s 10ms/step - loss: 0.6809 - accuracy: 0.7687 - val_loss: 0.9903 - val_accuracy: 0.6696\n",
      "Epoch 98/120\n",
      "1563/1563 [==============================] - 16s 10ms/step - loss: 0.6769 - accuracy: 0.7697 - val_loss: 0.9784 - val_accuracy: 0.6755\n",
      "Epoch 99/120\n",
      "1563/1563 [==============================] - 16s 10ms/step - loss: 0.6733 - accuracy: 0.7695 - val_loss: 0.9906 - val_accuracy: 0.6698\n",
      "Epoch 100/120\n",
      "1563/1563 [==============================] - 16s 10ms/step - loss: 0.6698 - accuracy: 0.7722 - val_loss: 0.9847 - val_accuracy: 0.6731\n",
      "Epoch 101/120\n",
      "1563/1563 [==============================] - 16s 10ms/step - loss: 0.6668 - accuracy: 0.7717 - val_loss: 0.9933 - val_accuracy: 0.6735\n",
      "Epoch 102/120\n",
      "1563/1563 [==============================] - 16s 11ms/step - loss: 0.6628 - accuracy: 0.7726 - val_loss: 1.0129 - val_accuracy: 0.6664\n",
      "Epoch 103/120\n",
      "1563/1563 [==============================] - 16s 10ms/step - loss: 0.6591 - accuracy: 0.7766 - val_loss: 0.9809 - val_accuracy: 0.6787\n",
      "Epoch 104/120\n",
      "1563/1563 [==============================] - 16s 10ms/step - loss: 0.6553 - accuracy: 0.7768 - val_loss: 0.9715 - val_accuracy: 0.6806\n",
      "Epoch 105/120\n",
      "1563/1563 [==============================] - 16s 10ms/step - loss: 0.6519 - accuracy: 0.7790 - val_loss: 0.9726 - val_accuracy: 0.6797\n",
      "Epoch 106/120\n",
      "1563/1563 [==============================] - 16s 10ms/step - loss: 0.6486 - accuracy: 0.7785 - val_loss: 0.9793 - val_accuracy: 0.6816\n",
      "Epoch 107/120\n",
      "1563/1563 [==============================] - 16s 11ms/step - loss: 0.6454 - accuracy: 0.7799 - val_loss: 0.9708 - val_accuracy: 0.6839\n",
      "Epoch 108/120\n",
      "1563/1563 [==============================] - 16s 10ms/step - loss: 0.6426 - accuracy: 0.7825 - val_loss: 0.9704 - val_accuracy: 0.6822\n",
      "Epoch 109/120\n",
      "1563/1563 [==============================] - 16s 10ms/step - loss: 0.6384 - accuracy: 0.7836 - val_loss: 0.9716 - val_accuracy: 0.6841\n",
      "Epoch 110/120\n",
      "1563/1563 [==============================] - 16s 11ms/step - loss: 0.6343 - accuracy: 0.7852 - val_loss: 0.9939 - val_accuracy: 0.6727\n",
      "Epoch 111/120\n"
     ]
    },
    {
     "name": "stdout",
     "output_type": "stream",
     "text": [
      "1563/1563 [==============================] - 16s 10ms/step - loss: 0.6312 - accuracy: 0.7859 - val_loss: 0.9835 - val_accuracy: 0.6813\n",
      "Epoch 112/120\n",
      "1563/1563 [==============================] - 16s 10ms/step - loss: 0.6291 - accuracy: 0.7880 - val_loss: 0.9714 - val_accuracy: 0.6808\n",
      "Epoch 113/120\n",
      "1563/1563 [==============================] - 16s 10ms/step - loss: 0.6245 - accuracy: 0.7886 - val_loss: 0.9731 - val_accuracy: 0.6815\n",
      "Epoch 114/120\n",
      "1563/1563 [==============================] - 16s 10ms/step - loss: 0.6220 - accuracy: 0.7881 - val_loss: 0.9758 - val_accuracy: 0.6853\n",
      "Epoch 115/120\n",
      "1563/1563 [==============================] - 16s 10ms/step - loss: 0.6177 - accuracy: 0.7907 - val_loss: 0.9758 - val_accuracy: 0.6831\n",
      "Epoch 116/120\n",
      "1563/1563 [==============================] - 16s 10ms/step - loss: 0.6136 - accuracy: 0.7931 - val_loss: 0.9751 - val_accuracy: 0.6848\n",
      "Epoch 117/120\n",
      "1563/1563 [==============================] - 16s 10ms/step - loss: 0.6109 - accuracy: 0.7930 - val_loss: 0.9987 - val_accuracy: 0.6767\n",
      "Epoch 118/120\n",
      "1563/1563 [==============================] - 16s 10ms/step - loss: 0.6078 - accuracy: 0.7949 - val_loss: 0.9883 - val_accuracy: 0.6817\n",
      "Epoch 119/120\n",
      "1563/1563 [==============================] - 16s 10ms/step - loss: 0.6043 - accuracy: 0.7963 - val_loss: 1.0240 - val_accuracy: 0.6652\n",
      "Epoch 120/120\n",
      "1563/1563 [==============================] - 16s 10ms/step - loss: 0.6016 - accuracy: 0.7967 - val_loss: 0.9823 - val_accuracy: 0.6854\n"
     ]
    }
   ],
   "source": [
    "history1 = model1.fit(\n",
    "    train_images,\n",
    "    train_labels,\n",
    "    epochs=epochs,\n",
    "    validation_data=(test_images, test_labels)\n",
    ")"
   ]
  },
  {
   "cell_type": "markdown",
   "metadata": {},
   "source": [
    "Evaluate the model"
   ]
  },
  {
   "cell_type": "code",
   "execution_count": 7,
   "metadata": {},
   "outputs": [
    {
     "data": {
      "image/png": "[encoded data removed]",
      "text/plain": [
       "<Figure size 576x576 with 2 Axes>"
      ]
     },
     "metadata": {
      "needs_background": "light"
     },
     "output_type": "display_data"
    }
   ],
   "source": [
    "acc = history1.history['accuracy']\n",
    "val_acc = history1.history['val_accuracy']\n",
    "\n",
    "loss = history1.history['loss']\n",
    "val_loss = history1.history['val_loss']\n",
    "\n",
    "epochs_range = range(epochs)\n",
    "\n",
    "plt.figure(figsize=(8, 8))\n",
    "plt.subplot(1, 2, 1)\n",
    "plt.plot(epochs_range, acc, label='Training Accuracy')\n",
    "plt.plot(epochs_range, val_acc, label='Validation Accuracy')\n",
    "plt.legend(loc='lower right')\n",
    "plt.title('Training and Validation Accuracy')\n",
    "\n",
    "plt.subplot(1, 2, 2)\n",
    "plt.plot(epochs_range, loss, label='Training Loss')\n",
    "plt.plot(epochs_range, val_loss, label='Validation Loss')\n",
    "plt.legend(loc='upper right')\n",
    "plt.title('Training and Validation Loss')\n",
    "plt.show()"
   ]
  },
  {
   "cell_type": "markdown",
   "metadata": {},
   "source": [
    "## Task 3, change optimizer to ADAM"
   ]
  },
  {
   "cell_type": "code",
   "execution_count": 8,
   "metadata": {
    "scrolled": true
   },
   "outputs": [
    {
     "name": "stdout",
     "output_type": "stream",
     "text": [
      "Model: \"sequential_1\"\n",
      "_________________________________________________________________\n",
      "Layer (type)                 Output Shape              Param #   \n",
      "=================================================================\n",
      "conv2d_3 (Conv2D)            (None, 32, 32, 32)        896       \n",
      "_________________________________________________________________\n",
      "conv2d_4 (Conv2D)            (None, 32, 32, 64)        18496     \n",
      "_________________________________________________________________\n",
      "max_pooling2d_2 (MaxPooling2 (None, 16, 16, 64)        0         \n",
      "_________________________________________________________________\n",
      "conv2d_5 (Conv2D)            (None, 16, 16, 64)        36928     \n",
      "_________________________________________________________________\n",
      "max_pooling2d_3 (MaxPooling2 (None, 8, 8, 64)          0         \n",
      "_________________________________________________________________\n",
      "flatten_1 (Flatten)          (None, 4096)              0         \n",
      "_________________________________________________________________\n",
      "dense_2 (Dense)              (None, 64)                262208    \n",
      "_________________________________________________________________\n",
      "dense_3 (Dense)              (None, 10)                650       \n",
      "=================================================================\n",
      "Total params: 319,178\n",
      "Trainable params: 319,178\n",
      "Non-trainable params: 0\n",
      "_________________________________________________________________\n",
      "Epoch 1/60\n",
      "1563/1563 [==============================] - 17s 11ms/step - loss: 2.2164 - accuracy: 0.3944 - val_loss: 1.4546 - val_accuracy: 0.4889\n",
      "Epoch 2/60\n",
      "1563/1563 [==============================] - 17s 11ms/step - loss: 1.2867 - accuracy: 0.5531 - val_loss: 1.2019 - val_accuracy: 0.5843\n",
      "Epoch 3/60\n",
      "1563/1563 [==============================] - 17s 11ms/step - loss: 1.0890 - accuracy: 0.6238 - val_loss: 1.1067 - val_accuracy: 0.6195\n",
      "Epoch 4/60\n",
      "1563/1563 [==============================] - 17s 11ms/step - loss: 0.9640 - accuracy: 0.6684 - val_loss: 1.0598 - val_accuracy: 0.6395\n",
      "Epoch 5/60\n",
      "1563/1563 [==============================] - 17s 11ms/step - loss: 0.8632 - accuracy: 0.7029 - val_loss: 1.0428 - val_accuracy: 0.6473\n",
      "Epoch 6/60\n",
      "1563/1563 [==============================] - 17s 11ms/step - loss: 0.7749 - accuracy: 0.7330 - val_loss: 0.9959 - val_accuracy: 0.6694\n",
      "Epoch 7/60\n",
      "1563/1563 [==============================] - 17s 11ms/step - loss: 0.6996 - accuracy: 0.7603 - val_loss: 1.0324 - val_accuracy: 0.6693\n",
      "Epoch 8/60\n",
      "1563/1563 [==============================] - 17s 11ms/step - loss: 0.6266 - accuracy: 0.7831 - val_loss: 0.9774 - val_accuracy: 0.6835\n",
      "Epoch 9/60\n",
      "1563/1563 [==============================] - 17s 11ms/step - loss: 0.5528 - accuracy: 0.8089 - val_loss: 1.0494 - val_accuracy: 0.6781\n",
      "Epoch 10/60\n",
      "1563/1563 [==============================] - 17s 11ms/step - loss: 0.4912 - accuracy: 0.8292 - val_loss: 1.1122 - val_accuracy: 0.6750\n",
      "Epoch 11/60\n",
      "1563/1563 [==============================] - 17s 11ms/step - loss: 0.4325 - accuracy: 0.8523 - val_loss: 1.1051 - val_accuracy: 0.6798\n",
      "Epoch 12/60\n",
      "1563/1563 [==============================] - 17s 11ms/step - loss: 0.3783 - accuracy: 0.8689 - val_loss: 1.1425 - val_accuracy: 0.6853\n",
      "Epoch 13/60\n",
      "1563/1563 [==============================] - 17s 11ms/step - loss: 0.3304 - accuracy: 0.8855 - val_loss: 1.2054 - val_accuracy: 0.6862\n",
      "Epoch 14/60\n",
      "1563/1563 [==============================] - 17s 11ms/step - loss: 0.2842 - accuracy: 0.9020 - val_loss: 1.3041 - val_accuracy: 0.6715\n",
      "Epoch 15/60\n",
      "1563/1563 [==============================] - 17s 11ms/step - loss: 0.2484 - accuracy: 0.9132 - val_loss: 1.3677 - val_accuracy: 0.6771\n",
      "Epoch 16/60\n",
      "1563/1563 [==============================] - 17s 11ms/step - loss: 0.2145 - accuracy: 0.9259 - val_loss: 1.4143 - val_accuracy: 0.6809\n",
      "Epoch 17/60\n",
      "1563/1563 [==============================] - 17s 11ms/step - loss: 0.1904 - accuracy: 0.9340 - val_loss: 1.4779 - val_accuracy: 0.6785\n",
      "Epoch 18/60\n",
      "1563/1563 [==============================] - 17s 11ms/step - loss: 0.1634 - accuracy: 0.9450 - val_loss: 1.5368 - val_accuracy: 0.6846\n",
      "Epoch 19/60\n",
      "1563/1563 [==============================] - 16s 11ms/step - loss: 0.1473 - accuracy: 0.9497 - val_loss: 1.6828 - val_accuracy: 0.6770\n",
      "Epoch 20/60\n",
      "1563/1563 [==============================] - 17s 11ms/step - loss: 0.1286 - accuracy: 0.9564 - val_loss: 1.7392 - val_accuracy: 0.6774\n",
      "Epoch 21/60\n",
      "1563/1563 [==============================] - 17s 11ms/step - loss: 0.1133 - accuracy: 0.9621 - val_loss: 1.8468 - val_accuracy: 0.6730\n",
      "Epoch 22/60\n",
      "1563/1563 [==============================] - 17s 11ms/step - loss: 0.1052 - accuracy: 0.9650 - val_loss: 1.9379 - val_accuracy: 0.6700\n",
      "Epoch 23/60\n",
      "1563/1563 [==============================] - 17s 11ms/step - loss: 0.0941 - accuracy: 0.9681 - val_loss: 2.0048 - val_accuracy: 0.6725\n",
      "Epoch 24/60\n",
      "1563/1563 [==============================] - 16s 10ms/step - loss: 0.0896 - accuracy: 0.9700 - val_loss: 2.0222 - val_accuracy: 0.6782\n",
      "Epoch 25/60\n",
      "1563/1563 [==============================] - 17s 11ms/step - loss: 0.0859 - accuracy: 0.9710 - val_loss: 2.0869 - val_accuracy: 0.6794\n",
      "Epoch 26/60\n",
      "1563/1563 [==============================] - 17s 11ms/step - loss: 0.0794 - accuracy: 0.9722 - val_loss: 2.1642 - val_accuracy: 0.6802\n",
      "Epoch 27/60\n",
      "1563/1563 [==============================] - 17s 11ms/step - loss: 0.0713 - accuracy: 0.9757 - val_loss: 2.2487 - val_accuracy: 0.6710\n",
      "Epoch 28/60\n",
      "1563/1563 [==============================] - 17s 11ms/step - loss: 0.0695 - accuracy: 0.9758 - val_loss: 2.2794 - val_accuracy: 0.6798\n",
      "Epoch 29/60\n",
      "1563/1563 [==============================] - 16s 10ms/step - loss: 0.0714 - accuracy: 0.9751 - val_loss: 2.2761 - val_accuracy: 0.6733\n",
      "Epoch 30/60\n",
      "1563/1563 [==============================] - 17s 11ms/step - loss: 0.0599 - accuracy: 0.9794 - val_loss: 2.4157 - val_accuracy: 0.6765\n",
      "Epoch 31/60\n",
      "1563/1563 [==============================] - 17s 11ms/step - loss: 0.0643 - accuracy: 0.9780 - val_loss: 2.5010 - val_accuracy: 0.6722\n",
      "Epoch 32/60\n",
      "1563/1563 [==============================] - 17s 11ms/step - loss: 0.0571 - accuracy: 0.9804 - val_loss: 2.5496 - val_accuracy: 0.6775\n",
      "Epoch 33/60\n",
      "1563/1563 [==============================] - 17s 11ms/step - loss: 0.0622 - accuracy: 0.9783 - val_loss: 2.4987 - val_accuracy: 0.6786\n",
      "Epoch 34/60\n",
      "1563/1563 [==============================] - 16s 11ms/step - loss: 0.0558 - accuracy: 0.9812 - val_loss: 2.5678 - val_accuracy: 0.6779\n",
      "Epoch 35/60\n",
      "1563/1563 [==============================] - 16s 11ms/step - loss: 0.0565 - accuracy: 0.9810 - val_loss: 2.5675 - val_accuracy: 0.6773\n",
      "Epoch 36/60\n",
      "1563/1563 [==============================] - 17s 11ms/step - loss: 0.0558 - accuracy: 0.9810 - val_loss: 2.6754 - val_accuracy: 0.6726\n",
      "Epoch 37/60\n",
      "1563/1563 [==============================] - 17s 11ms/step - loss: 0.0479 - accuracy: 0.9833 - val_loss: 2.8150 - val_accuracy: 0.6740\n",
      "Epoch 38/60\n",
      "1563/1563 [==============================] - 17s 11ms/step - loss: 0.0519 - accuracy: 0.9826 - val_loss: 2.7684 - val_accuracy: 0.6751\n",
      "Epoch 39/60\n",
      "1563/1563 [==============================] - 17s 11ms/step - loss: 0.0552 - accuracy: 0.9807 - val_loss: 2.7415 - val_accuracy: 0.6781\n",
      "Epoch 40/60\n",
      "1563/1563 [==============================] - 17s 11ms/step - loss: 0.0443 - accuracy: 0.9853 - val_loss: 2.8877 - val_accuracy: 0.6756\n",
      "Epoch 41/60\n",
      "1563/1563 [==============================] - 17s 11ms/step - loss: 0.0439 - accuracy: 0.9850 - val_loss: 2.8230 - val_accuracy: 0.6755\n",
      "Epoch 42/60\n",
      "1563/1563 [==============================] - 17s 11ms/step - loss: 0.0456 - accuracy: 0.9849 - val_loss: 2.9080 - val_accuracy: 0.6795\n",
      "Epoch 43/60\n",
      "1563/1563 [==============================] - 16s 11ms/step - loss: 0.0471 - accuracy: 0.9839 - val_loss: 2.9624 - val_accuracy: 0.6774\n",
      "Epoch 44/60\n",
      "1563/1563 [==============================] - 17s 11ms/step - loss: 0.0458 - accuracy: 0.9853 - val_loss: 2.9936 - val_accuracy: 0.6828\n",
      "Epoch 45/60\n",
      "1563/1563 [==============================] - 17s 11ms/step - loss: 0.0452 - accuracy: 0.9844 - val_loss: 2.9467 - val_accuracy: 0.6796\n",
      "Epoch 46/60\n",
      "1563/1563 [==============================] - 17s 11ms/step - loss: 0.0472 - accuracy: 0.9841 - val_loss: 3.1259 - val_accuracy: 0.6764\n",
      "Epoch 47/60\n"
     ]
    },
    {
     "name": "stdout",
     "output_type": "stream",
     "text": [
      "1563/1563 [==============================] - 17s 11ms/step - loss: 0.0420 - accuracy: 0.9852 - val_loss: 3.0110 - val_accuracy: 0.6796\n",
      "Epoch 48/60\n",
      "1563/1563 [==============================] - 16s 11ms/step - loss: 0.0496 - accuracy: 0.9832 - val_loss: 3.1392 - val_accuracy: 0.6768\n",
      "Epoch 49/60\n",
      "1563/1563 [==============================] - 17s 11ms/step - loss: 0.0365 - accuracy: 0.9874 - val_loss: 3.0911 - val_accuracy: 0.6804\n",
      "Epoch 50/60\n",
      "1563/1563 [==============================] - 17s 11ms/step - loss: 0.0433 - accuracy: 0.9849 - val_loss: 3.2236 - val_accuracy: 0.6769\n",
      "Epoch 51/60\n",
      "1563/1563 [==============================] - 17s 11ms/step - loss: 0.0416 - accuracy: 0.9859 - val_loss: 3.2230 - val_accuracy: 0.6787\n",
      "Epoch 52/60\n",
      "1563/1563 [==============================] - 17s 11ms/step - loss: 0.0440 - accuracy: 0.9854 - val_loss: 3.2071 - val_accuracy: 0.6798\n",
      "Epoch 53/60\n",
      "1563/1563 [==============================] - 17s 11ms/step - loss: 0.0365 - accuracy: 0.9877 - val_loss: 3.3667 - val_accuracy: 0.6785ra\n",
      "Epoch 54/60\n",
      "1563/1563 [==============================] - 16s 11ms/step - loss: 0.0373 - accuracy: 0.9876 - val_loss: 3.4365 - val_accuracy: 0.6734\n",
      "Epoch 55/60\n",
      "1563/1563 [==============================] - 17s 11ms/step - loss: 0.0472 - accuracy: 0.9849 - val_loss: 3.3609 - val_accuracy: 0.6785\n",
      "Epoch 56/60\n",
      "1563/1563 [==============================] - 17s 11ms/step - loss: 0.0377 - accuracy: 0.9878 - val_loss: 3.2705 - val_accuracy: 0.6831\n",
      "Epoch 57/60\n",
      "1563/1563 [==============================] - 17s 11ms/step - loss: 0.0393 - accuracy: 0.9870 - val_loss: 3.3797 - val_accuracy: 0.6840\n",
      "Epoch 58/60\n",
      "1563/1563 [==============================] - 16s 11ms/step - loss: 0.0333 - accuracy: 0.9886 - val_loss: 3.4617 - val_accuracy: 0.6732\n",
      "Epoch 59/60\n",
      "1563/1563 [==============================] - 17s 11ms/step - loss: 0.0406 - accuracy: 0.9866 - val_loss: 3.4069 - val_accuracy: 0.6787\n",
      "Epoch 60/60\n",
      "1563/1563 [==============================] - 17s 11ms/step - loss: 0.0359 - accuracy: 0.9879 - val_loss: 3.4252 - val_accuracy: 0.6812\n"
     ]
    }
   ],
   "source": [
    "model2 = Sequential([\n",
    "  layers.Conv2D(32, (3, 3), padding='same', activation=activation_func, input_shape=(32, 32, 3)),\n",
    "  layers.Conv2D(64, (3, 3), padding='same', activation=activation_func),\n",
    "  layers.MaxPooling2D(),\n",
    "  layers.Conv2D(64, (3, 3), padding='same', activation=activation_func),\n",
    "  layers.MaxPooling2D(),\n",
    "  layers.Flatten(),\n",
    "  layers.Dense(64, activation=activation_func),\n",
    "  layers.Dense(10, activation=\"softmax\")\n",
    "])\n",
    "\n",
    "model2.compile(optimizer=optim.Adam(learning_rate=0.0001),\n",
    "            loss=SparseCategoricalCrossentropy(),\n",
    "            metrics=[\"accuracy\"])\n",
    "\n",
    "model2.summary()\n",
    "\n",
    "history2 = model2.fit(\n",
    "    train_images,\n",
    "    train_labels,\n",
    "    epochs=epochs,\n",
    "    validation_data=(test_images, test_labels)\n",
    ")"
   ]
  },
  {
   "cell_type": "code",
   "execution_count": 9,
   "metadata": {},
   "outputs": [
    {
     "data": {
      "image/png": "[encoded data removed]",
      "text/plain": [
       "<Figure size 576x576 with 2 Axes>"
      ]
     },
     "metadata": {
      "needs_background": "light"
     },
     "output_type": "display_data"
    }
   ],
   "source": [
    "acc = history2.history['accuracy']\n",
    "val_acc = history2.history['val_accuracy']\n",
    "\n",
    "loss = history2.history['loss']\n",
    "val_loss = history2.history['val_loss']\n",
    "\n",
    "epochs_range = range(epochs)\n",
    "\n",
    "plt.figure(figsize=(8, 8))\n",
    "plt.subplot(1, 2, 1)\n",
    "plt.plot(epochs_range, acc, label='Training Accuracy')\n",
    "plt.plot(epochs_range, val_acc, label='Validation Accuracy')\n",
    "plt.legend(loc='lower right')\n",
    "plt.title('Training and Validation Accuracy')\n",
    "\n",
    "plt.subplot(1, 2, 2)\n",
    "plt.plot(epochs_range, loss, label='Training Loss')\n",
    "plt.plot(epochs_range, val_loss, label='Validation Loss')\n",
    "plt.legend(loc='upper right')\n",
    "plt.title('Training and Validation Loss')\n",
    "plt.show()"
   ]
  },
  {
   "cell_type": "markdown",
   "metadata": {},
   "source": [
    "## Save models"
   ]
  },
  {
   "cell_type": "code",
   "execution_count": 8,
   "metadata": {},
   "outputs": [
    {
     "name": "stdout",
     "output_type": "stream",
     "text": [
      "mkdir: cannot create directory ‘saved_model’: File exists\n",
      "WARNING:tensorflow:From /usr/local/lib/python3.6/dist-packages/tensorflow/python/ops/resource_variable_ops.py:1817: calling BaseResourceVariable.__init__ (from tensorflow.python.ops.resource_variable_ops) with constraint is deprecated and will be removed in a future version.\n",
      "Instructions for updating:\n",
      "If using Keras pass *_constraint arguments to layers.\n",
      "INFO:tensorflow:Assets written to: saved_model/model1_120 epochs/assets\n"
     ]
    }
   ],
   "source": [
    "!mkdir saved_model\n",
    "\n",
    "model1.save('saved_model/model1') # SGD model\n",
    "model2.save('saved_model/model2') # Adam model"
   ]
  }
 ],
 "metadata": {
  "interpreter": {
   "hash": "69893b80d8f56bd4bf7fd7c6a799035d2beb193d497dfa823ab279b8d69c131b"
  },
  "kernelspec": {
   "display_name": "Python 3",
   "language": "python",
   "name": "python3"
  },
  "language_info": {
   "codemirror_mode": {
    "name": "ipython",
    "version": 3
   },
   "file_extension": ".py",
   "mimetype": "text/x-python",
   "name": "python",
   "nbconvert_exporter": "python",
   "pygments_lexer": "ipython3",
   "version": "3.8.12"
  }
 },
 "nbformat": 4,
 "nbformat_minor": 2
}
